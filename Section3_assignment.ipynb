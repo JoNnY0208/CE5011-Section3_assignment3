{
  "cells": [
    {
      "cell_type": "markdown",
      "metadata": {
        "id": "d9-nEXis_gaV"
      },
      "source": [
        "# Assignment 3: Ships in Satellite Imagery\n",
        "In this assignment we will build & train a classical object detector using the Histogram of Orientated Gradients (HOG) Descriptor. We will use this object detector to solve the problem of identifying ships in satellite imagery using the dataset https://www.kaggle.com/rhammell/ships-in-satellite-imagery.  This dataset consists of images of ships and images of NOT ships and is therefore a binary classification problem. The NOT ship categories include partial ships and also linear image features such as roads, jetties, etc., that may be confused with ships.   \n",
        "\n",
        "In this assignment you will write code for 3 main tasks (in numbered sections below) in order to the build a classical sliding window object detector:\n",
        "\n",
        "\n",
        "1.   Create an appropriate HOG descriptor for the training images.\n",
        "2.   Train a Support Vector Machine classifer to perform binary classification on the training set (after the training set is converted)\n",
        "3. Create a sliding window detector to find ships in larger satellite image scenes.\n",
        "\n",
        "This assignment demonstrates that classical image processing techniques may be used in preference to deep learning for certain applications. Particularly those that are limited in computational power or require fast execution.\n",
        "\n",
        "![Ships in Satellite imagery](https://i.imgur.com/tLsSoTz.png)\n",
        "\n",
        "This lab uses a **kaggle dataset**. **Please read** the [PDF](https://github.com/tonyscan6003/etivities/blob/main/kaggle_data_instructions.pdf) detailing how to setup your PC so that you can use a kaggle dataset within Colab. This assigment contains all the code necessary to read the downloaded kaggle files and to create image and label arrays with test and train splits."
      ]
    },
    {
      "cell_type": "markdown",
      "metadata": {
        "id": "_XQ_j7f8l0X0"
      },
      "source": [
        "# Dowload Kaggle Dataset.\n",
        "The following code cells will download the kaggle ship-in-satellite-imagery dataset and unzip the file. (Ensure you have a valid kaggle API token stored on your PC as described in the PDF.)"
      ]
    },
    {
      "cell_type": "code",
      "execution_count": null,
      "metadata": {
        "id": "qxjaR3if0Xr5"
      },
      "outputs": [],
      "source": [
        "! pip install -q kaggle\n",
        "! pip uninstall urllib3\n",
        "! pip install urllib3\n",
        "from google.colab import files\n",
        "files.upload()"
      ]
    },
    {
      "cell_type": "code",
      "execution_count": null,
      "metadata": {
        "id": "ZBtXYJft38r7"
      },
      "outputs": [],
      "source": [
        "# Use this only if have problems with stale .json file\n",
        "#!rm kaggle.json\n",
        "#!rm ~/.kaggle/kaggle.*"
      ]
    },
    {
      "cell_type": "code",
      "execution_count": null,
      "metadata": {
        "id": "vjUdKX-ut1eq"
      },
      "outputs": [],
      "source": [
        "#Choose the kaggle.json file that you downloaded\n",
        "! mkdir ~/.kaggle\n",
        "#Make directory named kaggle and copy kaggle.json file there.\n",
        "! cp kaggle.json ~/.kaggle/\n",
        "#Change the permissions of the file.\n",
        "! chmod 600 ~/.kaggle/kaggle.json\n",
        "\n",
        "# Load dataset\n",
        "! kaggle datasets download rhammell/ships-in-satellite-imagery\n",
        "\n",
        "!unzip ships-in-satellite-imagery.zip > /dev/null"
      ]
    },
    {
      "cell_type": "markdown",
      "metadata": {
        "id": "o_rx0kwv8pRA"
      },
      "source": [
        "# HouseKeeping\n",
        " Import packages, helper functions to read from URL and import images."
      ]
    },
    {
      "cell_type": "code",
      "execution_count": null,
      "metadata": {
        "id": "69GNKkotqa3n"
      },
      "outputs": [],
      "source": [
        "\n",
        "from skimage import feature\n",
        "from skimage import exposure\n",
        "from sklearn import svm\n",
        "from sklearn.model_selection import train_test_split\n",
        "import numpy as np\n",
        "import glob\n",
        "import urllib.request\n",
        "import cv2\n",
        "import matplotlib.pyplot as plt\n",
        "\n",
        "\n",
        "def url_to_image(url):\n",
        "\tuser_agent = 'Mozilla/5.0 (Windows; U; Windows NT 5.1; en-US; rv:1.9.0.7) Gecko/2009021910 Firefox/3.0.7'\n",
        "\theaders ={'User-Agent':user_agent,}\n",
        "\trequest=urllib.request.Request(url,None,headers)\n",
        "\tresp = urllib.request.urlopen(request)\n",
        "\ttemp_image = np.asarray(bytearray(resp.read()), dtype=\"uint8\")\n",
        "\ttemp_image = cv2.imdecode(temp_image, cv2.IMREAD_COLOR)\n",
        "\ttemp_image = cv2.cvtColor(temp_image, cv2.COLOR_BGR2RGB) # OpenCV defaults to BGR, but we need RGB\n",
        "\treturn temp_image\n",
        "\n",
        "def read_image(image_url):\n",
        "    image = url_to_image(image_url)\n",
        "    x,y,z = np.shape(image)\n",
        "    # Image is scaled to reduce computation time\n",
        "    image = cv2.resize(image, dsize=(int(y/sf), int(x/sf)), interpolation=cv2.INTER_CUBIC)\n",
        "    return image"
      ]
    },
    {
      "cell_type": "code",
      "execution_count": null,
      "metadata": {
        "id": "6GpVSarS6j6i"
      },
      "outputs": [],
      "source": [
        "# Read downloaded file list: Files are comprised of positive (ship) and negaitive (Not ship) examples\n",
        "\n",
        "pos_img_list = glob.glob('shipsnet/shipsnet/1_*.png')\n",
        "neg_img_list = glob.glob('shipsnet/shipsnet/0_*.png')\n"
      ]
    },
    {
      "cell_type": "markdown",
      "metadata": {
        "id": "o3rjPcY4jFTq"
      },
      "source": [
        "# Read Data\n",
        "Read data from unzipped downloaded files and create the Training and Test sets."
      ]
    },
    {
      "cell_type": "code",
      "execution_count": null,
      "metadata": {
        "id": "tKG0fPa1mw25"
      },
      "outputs": [],
      "source": [
        "# Set variables\n",
        "n = 80 # number of x,y pixels in this image.\n",
        "n_pts = 4000 # number of points to use (are 4000 in dataset, 1000 positive 3000 negative)"
      ]
    },
    {
      "cell_type": "code",
      "execution_count": null,
      "metadata": {
        "id": "FjLKcqGqCkOg"
      },
      "outputs": [],
      "source": [
        "def read_images(img_list):\n",
        "   train_pos = np.empty([1,n*n])\n",
        "   # Function to read images from file list\n",
        "   for i in range(len(img_list)):\n",
        "      img_path = img_list[i]\n",
        "      img = cv2.imread(img_path, cv2.IMREAD_COLOR)\n",
        "      img = cv2.cvtColor(img, cv2.COLOR_BGR2GRAY)\n",
        "      #  store image as row in array\n",
        "      train_pos = (np.concatenate((train_pos,np.reshape(img, (1, n*n)))) if i>0 else  np.reshape(img, (1, n*n)))\n",
        "   return train_pos"
      ]
    },
    {
      "cell_type": "code",
      "execution_count": null,
      "metadata": {
        "id": "CC2_IZ6DHSzr"
      },
      "outputs": [],
      "source": [
        "# Read positive and negative shp images into arrays\n",
        "pos_img = read_images(pos_img_list)\n",
        "\n",
        "neg_img = read_images(neg_img_list)\n"
      ]
    },
    {
      "cell_type": "code",
      "execution_count": null,
      "metadata": {
        "id": "WoBo21EGQF9T"
      },
      "outputs": [],
      "source": [
        "# create corresponding arrays of labels\n",
        "y_pos_labels = np.ones(len(pos_img_list))\n",
        "y_neg_labels = np.zeros(len(neg_img_list))"
      ]
    },
    {
      "cell_type": "code",
      "execution_count": null,
      "metadata": {
        "id": "KTynVmwVJ4cH"
      },
      "outputs": [],
      "source": [
        "# Combine positive and negative images into one dataset.\n",
        "dataset_img = np.concatenate((pos_img[0:1000,:],neg_img[0:3000,:]))\n",
        "dataset_labels = np.append(y_pos_labels,y_neg_labels)"
      ]
    },
    {
      "cell_type": "code",
      "execution_count": null,
      "metadata": {
        "id": "vO-pAgIK8IEl"
      },
      "outputs": [],
      "source": [
        "# Training examples\n",
        "n_train = int(0.7*n_pts)\n",
        "\n",
        "# Divide into training and test sets with labels\n",
        "X_train, X_test, y_train, y_test = train_test_split(dataset_img, dataset_labels, train_size=n_train,\n",
        "                                                    random_state=0,\n",
        "                                                    stratify=dataset_labels)\n"
      ]
    },
    {
      "cell_type": "code",
      "execution_count": null,
      "metadata": {
        "id": "mAwpAY3blG0b"
      },
      "outputs": [],
      "source": [
        "# Plot some examples from the training data\n",
        "n_plots = 100 # number of plots\n",
        "fig = plt.figure(figsize=(20, 15))\n",
        "for i in range(n_plots):\n",
        "    ax = fig.add_subplot(10, 20, i + 1, xticks=[], yticks=[])\n",
        "    ax.imshow(np.reshape(X_train[i,0:n*n], (n, n)) ,'gray')\n",
        "    ax.set_title(y_train[i],\n",
        "                 fontsize='small')"
      ]
    },
    {
      "cell_type": "markdown",
      "metadata": {
        "id": "AweWe6maFlnC"
      },
      "source": [
        "# 1. HOG Descriptor\n",
        "In order to obtain the HOG descriptor on each of the image patches during training we use the `feature.hog` command from [skimage](https://scikit-image.org/docs/dev/auto_examples/features_detection/plot_hog.html).\n",
        "\n",
        "As in the pedestran detection case (see lesson 4 weeks 10 & 11) we will use the default HOG parameters e.g. 9 orientations in each histogram, 8 x 8 pixels in the cell and 2 x 2 cells per block are used. The size of the detector window in this case is chosen to be the same as the image size = 80 x 80 pixels. This is different to the pedestrian detector window size seen in the lessons.\n",
        "\n",
        "Assuming that the blocks overlap:  \n",
        "*   Calculate how many overlapping blocks are in the 80 x 80 detector window\n",
        "*   Using the number of overlapping blocks and the other information above, determine the length of the HoG feature descriptor in this case.\n",
        "*   Insert your value for the the length of the HoG feature descriptor in the code cell below.\n",
        "\n",
        "\n"
      ]
    },
    {
      "cell_type": "code",
      "execution_count": null,
      "metadata": {
        "id": "HIt6nshOsC7R"
      },
      "outputs": [],
      "source": [
        "## INSERT YOUR VALUE FOR n_hog HERE\"\n",
        "n_hog ="
      ]
    },
    {
      "cell_type": "code",
      "execution_count": null,
      "metadata": {
        "id": "2g4HYLsH76jY"
      },
      "outputs": [],
      "source": [
        "# Function that outputs HoG descriptor\n",
        "def hog_descriptor(img):\n",
        "    # convert vector to img for HoG processing\n",
        "    H = feature.hog(img, orientations=9, pixels_per_cell=(8, 8),\n",
        "\t  cells_per_block=(2, 2), transform_sqrt=True, block_norm=\"L1\",\n",
        "    visualize=False)\n",
        "    return H\n",
        "\n",
        "# Function that takes the training/test data and returns array of descriptors\n",
        "def hog_des_arr(img_arr):\n",
        "    img_des=np.zeros((len(img_arr),n_hog)) # Empty descriptor array to hold values\n",
        "    i = 0                                  #pointer\n",
        "    for img in img_arr:\n",
        "      img = np.reshape(img[0:n*n], (n, n))  # convert training data vectors to rectangular image\n",
        "      img_des[i,0:n_hog] = hog_descriptor(img)\n",
        "      i=i+1\n",
        "    return img_des"
      ]
    },
    {
      "cell_type": "markdown",
      "metadata": {
        "id": "oD69sYw2Ho0a"
      },
      "source": [
        "We then convert each of the image patches to it's HOG descriptor. We assign each of these descriptor vectors to the 2D arrays `X_train_des` and `X_test_des` which are now our training & test data."
      ]
    },
    {
      "cell_type": "code",
      "execution_count": null,
      "metadata": {
        "id": "Gvx-F_3yDisD"
      },
      "outputs": [],
      "source": [
        "X_train_des = hog_des_arr(X_train)\n",
        "X_test_des = hog_des_arr(X_test)"
      ]
    },
    {
      "cell_type": "code",
      "execution_count": null,
      "metadata": {
        "id": "-lZjO34mIP8m"
      },
      "outputs": [],
      "source": [
        "print(np.shape(X_train))\n",
        "print(np.shape(X_train_des))"
      ]
    },
    {
      "cell_type": "markdown",
      "metadata": {
        "id": "0WbztAGYEEKy"
      },
      "source": [
        " # 2. Training & Test SVM Classifier\n",
        " In this section we will train a support vector machine on the data we have converted to it's HOG descriptor. Using descriptors improves classification accuracy compared to using the raw image pixels.\n",
        "\n",
        "In the code cell below utilise the [sklearn support vector machine](https://scikit-learn.org/stable/modules/svm.html) object and methods to train a support vector machine on the labelled trainig data (X_train_des,y_train)."
      ]
    },
    {
      "cell_type": "code",
      "execution_count": null,
      "metadata": {
        "id": "RxVBLmRYDlD7"
      },
      "outputs": [],
      "source": [
        "\n",
        "\n",
        "# Setup Classifier\n",
        "## YOUR CODE HERE ##\n",
        "\n",
        "#Train on Data\n",
        "## YOUR CODE HERE ##\n"
      ]
    },
    {
      "cell_type": "markdown",
      "metadata": {
        "id": "OnZhSF6fJNkL"
      },
      "source": [
        "Test your classifier using the test dataset and obtain a [classification report](https://scikit-learn.org/stable/modules/model_evaluation.html#classification-report).\n"
      ]
    },
    {
      "cell_type": "code",
      "execution_count": null,
      "metadata": {
        "id": "OgYHgfaccgRd"
      },
      "outputs": [],
      "source": [
        "# predict output labels.\n",
        "y_pred = ## YOUR CODE HERE ##\n"
      ]
    },
    {
      "cell_type": "code",
      "execution_count": null,
      "metadata": {
        "id": "bxBiaVG8upPa"
      },
      "outputs": [],
      "source": [
        "# Classification Report\n",
        "## YOUR CODE HERE ##"
      ]
    },
    {
      "cell_type": "markdown",
      "metadata": {
        "id": "XJ9M3-jQIJxj"
      },
      "source": [
        "We can plot some example from the test set using the code cell below."
      ]
    },
    {
      "cell_type": "code",
      "execution_count": null,
      "metadata": {
        "id": "hSz1bYwKAinm"
      },
      "outputs": [],
      "source": [
        "\n",
        "\n",
        "n_plots = 30 # number of plots\n",
        "fig = plt.figure(figsize=(20, 15))\n",
        "for i in range(100):\n",
        "    ax = fig.add_subplot(10, 20, i + 1, xticks=[], yticks=[])\n",
        "    ax.imshow( np.reshape(X_test[i,0:n*n], (n, n)) ,'gray')\n",
        "    color = ('black' if y_pred[i] == y_test[i] else 'red')\n",
        "    ax.set_title(y_test[i],\n",
        "                 fontsize='small', color=color)"
      ]
    },
    {
      "cell_type": "markdown",
      "metadata": {
        "id": "KmI262eY0ZQi"
      },
      "source": [
        "# 3. Use Classifier as a basic object Detector with a sliding window.\n",
        "Now that we have a trained SVM and HoG descriptor, these components can be used as the basis of a sliding window detector. The sliding window can be used to automatically detect & mark the location of ships in a large satellite image view.\n",
        "\n",
        "**Import scene:** We can perform object detection of ships in the scene imported in the code cell below. You can use grey scale version of the image gray_img in your sliding window detector, bounding boxes can be applied to the colour version of the image."
      ]
    },
    {
      "cell_type": "code",
      "execution_count": null,
      "metadata": {
        "id": "W5fFqT5oA1Jd"
      },
      "outputs": [],
      "source": [
        "\n",
        "img_path = 'scenes/scenes/sfbay_3.png'\n",
        "col_img = cv2.imread(img_path, cv2.IMREAD_COLOR)\n",
        "gray_img = cv2.cvtColor(col_img, cv2.COLOR_BGR2GRAY)\n",
        "plt.imshow( gray_img ,'gray')\n",
        "\n",
        "\n"
      ]
    },
    {
      "cell_type": "markdown",
      "metadata": {
        "id": "1LZ4JEJxLH2A"
      },
      "source": [
        "In the code cell below you can code the sliding window function `sliding_window` which operates on the scene image. You can run your detector over the entire image pixel range, there is no need to make any special accomodation for the image border. The function outputs the array m x 4, where m is the number of bounding boxes detected.\n",
        "\n",
        "\n",
        "*Step Size*\n",
        "> The sliding window which is the same size as our training images `n` = 80, is moved around the image according to the value of the parameter `step_size` which you can set to an optimimum size. Larger step values may cause an object to be missed, however using a larger step size will increase the speed of execution which is useful to debug your algorithm. When a smaller step size is used, multiple detections of the same object can occur.\n",
        "\n",
        "*Coordinate Systems*\n",
        "\n",
        "> The greyscale input image that we are applying our sliding window detector to is a matrix. The elements of this matrix are accessed as (row,column). In order to successfully plot the bouding box using OpenCV rectangle commands, the bounding boxes must be output in a format [x1,y1,x2,y2] where x1,y1 correspond to the top left hand side corner of the bouding box and x2,y2 the bottom right corner. Thus the x coordinate of the bounding box corresponds to the column of the matrix and the y coordinate the rows. The origin (0,0) in the coordinate system used by OpenCV is the top left of the image.\n",
        "\n",
        "*Non Maximal Supression*\n",
        "\n",
        ">  We can use the `non_max_supression` function from the `imutils` package to remove overlapping detections. (This is already implemented in the code cell below that displays the bouding boxes you find)  \n",
        "\n",
        "*Image Pyramid*\n",
        "\n",
        "> We will not include a image pyramid in our object detector. As the test scene images are taken from fixed position satellite images similar to the training patches, there is no need to adjust the scale of the image."
      ]
    },
    {
      "cell_type": "code",
      "execution_count": null,
      "metadata": {
        "id": "pjML4kFnDFst"
      },
      "outputs": [],
      "source": [
        "# Detection window size and stride\n",
        "windowSize = (n,n)\n",
        "step_size = 10\n",
        "\n",
        "\n",
        "### COMPLETE THE SLIDING WINDOW FUNCTION HERE ###\n",
        "\n",
        "def sliding_window(image):\n",
        "   \"\"\"\n",
        "    image: input satellite image of arbitary size\n",
        "    found_boxes: m x 4 array of output bounding boxes.\n",
        "                 Each row corresponds to a bounding box [x1,y2,x2,y2]\n",
        "                 (see note on coordinate system above)\n",
        "   \"\"\"\n",
        "\n",
        "   return found_boxes"
      ]
    },
    {
      "cell_type": "markdown",
      "metadata": {
        "id": "dT3fdWZiY2BM"
      },
      "source": [
        "You can run your function to output all the bounding boxes from the detections made by the classifier in the image."
      ]
    },
    {
      "cell_type": "code",
      "execution_count": null,
      "metadata": {
        "id": "z871JVYN-FpR"
      },
      "outputs": [],
      "source": [
        "\n",
        "found_boxes = sliding_window(gray_img)\n"
      ]
    },
    {
      "cell_type": "markdown",
      "metadata": {
        "id": "_MmRxfyhZOfk"
      },
      "source": [
        "The non_max_supression function from the imutils package is used to remove overlapping boxes. The boxes are overlaid on the color version of the satellite image."
      ]
    },
    {
      "cell_type": "code",
      "execution_count": null,
      "metadata": {
        "id": "tRB7rvbv0sI8"
      },
      "outputs": [],
      "source": [
        "from imutils.object_detection import non_max_suppression\n",
        "\n",
        "#Bounding box parameters\n",
        "greenColor = (0, 255, 0)\n",
        "lineThickness = 4\n",
        "\n",
        "# run non-max suppression on these based on an overlay op 65%\n",
        "nmsBoundingBoxes = non_max_suppression(found_boxes, probs=None, overlapThresh=0.65)\n",
        "\n",
        "print (\"Before suppression, we had {} bounding boxes, after suppression we have {}\".format(len(found_boxes), len(nmsBoundingBoxes)))\n",
        "\n",
        "greenColor = (0, 255, 0)\n",
        "lineThickness = 1\n",
        "# draw the final bounding boxes\n",
        "for (xA, yA, xB, yB) in nmsBoundingBoxes:\n",
        "    cv2.rectangle(col_img, (xA, yA), (xB, yB), greenColor, lineThickness)\n",
        "\n",
        "# Plot figures\n",
        "plt.figure(figsize=(14, 10), dpi=80)\n",
        "plt.imshow(col_img, aspect='auto')\n",
        "plt.show()"
      ]
    }
  ],
  "metadata": {
    "colab": {
      "provenance": []
    },
    "kernelspec": {
      "display_name": "Python 3.10.4 64-bit (microsoft store)",
      "language": "python",
      "name": "python3"
    },
    "language_info": {
      "name": "python",
      "version": "3.10.4"
    },
    "vscode": {
      "interpreter": {
        "hash": "b68f8234f4664cd92394ba08fd2bcacafca488f50355ff1b3e37ec2c2f0f7027"
      }
    }
  },
  "nbformat": 4,
  "nbformat_minor": 0
}